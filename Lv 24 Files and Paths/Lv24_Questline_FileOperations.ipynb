{
 "cells": [
  {
   "cell_type": "code",
   "execution_count": 5,
   "metadata": {},
   "outputs": [
    {
     "name": "stdout",
     "output_type": "stream",
     "text": [
      "Einst fragte ein Schueler seinen Meister:\n",
      "Meister, Ihr sprecht von Friede doch lehrt uns die Kunst des Kaempfens...\n",
      "wie vereinbart Ihr diese beiden Dinge miteinander?\n"
     ]
    }
   ],
   "source": [
    "# Datei öffnen und auslesen\n",
    "# with open(\"ronin.txt\") as file:\n",
    "#     contents = file.read()\n",
    "#     print(contents)\n",
    "with open(\"./ronin.txt\") as file:\n",
    "    contents = file.read()\n",
    "    print(contents)"
   ]
  },
  {
   "cell_type": "code",
   "execution_count": 5,
   "metadata": {},
   "outputs": [],
   "source": [
    "# Zugriffs Zustände und editieren einer Textdatei\n",
    "\n",
    "# Different Modes\n",
    "# r = read\n",
    "# w = write (edit)\n",
    "# a = append\n",
    "with open(\"test.txt\", mode=\"a\") as file:\n",
    "    file.write(\"\\nNun, es ist besser ein Krieger im Garten, als ein Gärtner im Krieg zu sein.\")"
   ]
  },
  {
   "cell_type": "code",
   "execution_count": null,
   "metadata": {},
   "outputs": [],
   "source": [
    "# Neue Text Datei erzeugen\n",
    "\n",
    "with open(\"new_file.txt\", mode=\"w\") as file:\n",
    "    file.write(\"Ich bin ein neuer Text in einer neuen Datei.\")"
   ]
  },
  {
   "attachments": {},
   "cell_type": "markdown",
   "metadata": {},
   "source": [
    "### **Relativer Pfad**\n",
    "Lv 24 Files and Paths\\ronin.txt\n",
    "\n",
    "### **Absoluter Pfad**\n",
    "Beginnt am Rootverzeichnis der entsprechenden Datei\n",
    "\\\\P:\\Benutzer\\username\\Unterrichtsplanung\\Python\\Python_Learn_Modules\\Lv 24 Files and Paths\\ronin.txt"
   ]
  }
 ],
 "metadata": {
  "kernelspec": {
   "display_name": "Python 3",
   "language": "python",
   "name": "python3"
  },
  "language_info": {
   "codemirror_mode": {
    "name": "ipython",
    "version": 3
   },
   "file_extension": ".py",
   "mimetype": "text/x-python",
   "name": "python",
   "nbconvert_exporter": "python",
   "pygments_lexer": "ipython3",
   "version": "3.10.2 (tags/v3.10.2:a58ebcc, Jan 17 2022, 14:12:15) [MSC v.1929 64 bit (AMD64)]"
  },
  "orig_nbformat": 4,
  "vscode": {
   "interpreter": {
    "hash": "199d4d96980d3c77fd685aeae9f69782f382d18d101d3d05db881b6799e10f7f"
   }
  }
 },
 "nbformat": 4,
 "nbformat_minor": 2
}

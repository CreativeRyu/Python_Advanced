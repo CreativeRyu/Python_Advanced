{
 "cells": [
  {
   "attachments": {},
   "cell_type": "markdown",
   "metadata": {},
   "source": [
    "## **Dictionary Comprehensions**"
   ]
  },
  {
   "cell_type": "code",
   "execution_count": 48,
   "metadata": {},
   "outputs": [
    {
     "name": "stdout",
     "output_type": "stream",
     "text": [
      "[2, 4, 6, 8, 10, 12, 14, 16, 18, 20]\n"
     ]
    }
   ],
   "source": [
    "# Tafelbeispiel\n",
    "# new_dict = {new_key:new_value for item in list}\n",
    "# new_dict = {new_key:new_value for (key, value) in dict.items()}\n",
    "# new_dict = {new_key:new_value for (key, value) in dict.items() if test}"
   ]
  },
  {
   "cell_type": "code",
   "execution_count": 5,
   "metadata": {},
   "outputs": [
    {
     "name": "stdout",
     "output_type": "stream",
     "text": [
      "{'Ryu': 76, 'Kinga': 65, 'Celli': 74, 'Nina': 62, 'Jay': 19}\n"
     ]
    }
   ],
   "source": [
    "# Regular Dictionary Comprehensionn\n",
    "import random\n",
    "names = [\"Ryu\",\"Kinga\",\"Celli\",\"Nina\", \"Jay\"]\n",
    "\n",
    "student_scores = {student:random.randint(1,100) for student in names}\n",
    "print(student_scores)"
   ]
  },
  {
   "cell_type": "code",
   "execution_count": 6,
   "metadata": {},
   "outputs": [
    {
     "name": "stdout",
     "output_type": "stream",
     "text": [
      "{'Ryu': 76, 'Kinga': 65, 'Celli': 74, 'Nina': 62}\n"
     ]
    }
   ],
   "source": [
    "# Conditional Dictionary Comprehension\n",
    "passed_students = {student:score for (student,score) in student_scores.items() if score >= 60}\n",
    "print(passed_students)"
   ]
  },
  {
   "attachments": {},
   "cell_type": "markdown",
   "metadata": {},
   "source": [
    "#### **Aufgabe 1**\n",
    "Erstellen Sie ein Dictionary aus dem folgenden Satz. Es soll die einzelnen Wörter als Keys und die Anzahl der Buchstaben als Values enthalten. Nutzen Sie dafür eine Dictionary Comprehension."
   ]
  },
  {
   "cell_type": "code",
   "execution_count": 49,
   "metadata": {},
   "outputs": [
    {
     "name": "stdout",
     "output_type": "stream",
     "text": [
      "[1, 1, 4, 9, 25, 64, 169, 441, 1156, 3025]\n"
     ]
    }
   ],
   "source": [
    "sentence = \"What is the Airspeed Velocity of an Unladen Swallow?\"\n",
    "# Don't change code above 👆\n",
    "\n",
    "# Write your code below:\n",
    "\n",
    "\n",
    "\n",
    "print(result)"
   ]
  },
  {
   "attachments": {},
   "cell_type": "markdown",
   "metadata": {},
   "source": [
    "#### **Lösung 1**"
   ]
  },
  {
   "cell_type": "code",
   "execution_count": 8,
   "metadata": {},
   "outputs": [
    {
     "name": "stdout",
     "output_type": "stream",
     "text": [
      "['What', 'is', 'the', 'Airspeed', 'Velocity', 'of', 'an', 'Unladen', 'Swallow?']\n",
      "[4, 2, 3, 8, 8, 2, 2, 7, 8]\n"
     ]
    }
   ],
   "source": [
    "sentence = \"What is the Airspeed Velocity of an Unladen Swallow?\"\n",
    "# Don't change code above 👆\n",
    "\n",
    "# Write your code below:\n",
    "words = sentence.split()\n",
    "word_lenghtes = [len(word) for word in words]\n",
    "print(words)\n",
    "print(word_lenghtes)\n",
    "result = {word:word_lenght for word in words}\n",
    "print(result)"
   ]
  },
  {
   "attachments": {},
   "cell_type": "markdown",
   "metadata": {},
   "source": [
    "#### **Aufgabe 2**\n",
    "Erstellen Sie ein Dictionary mit dem namen weather_f das jede Temperatur in Grad Celsius in Grad Fahrenheit umrechnet.\n",
    "Verwenden Sie dafür eine Dictionary Comprehension."
   ]
  },
  {
   "cell_type": "code",
   "execution_count": 51,
   "metadata": {},
   "outputs": [
    {
     "name": "stdout",
     "output_type": "stream",
     "text": [
      "[2, 8, 34]\n"
     ]
    }
   ],
   "source": [
    "weather_c = {\n",
    "    \"Monday\": 12,\n",
    "    \"Tuesday\": 14,\n",
    "    \"Wednesday\": 15,\n",
    "    \"Thursday\": 14,\n",
    "    \"Friday\": 21,\n",
    "    \"Saturday\": 22,\n",
    "    \"Sunday\": 24,\n",
    "}\n",
    "# 🚨 Don't change code above 👆\n",
    "\n",
    "\n",
    "# Write your code 👇 below:\n",
    "\n",
    "\n",
    "\n",
    "print(weather_f)"
   ]
  },
  {
   "attachments": {},
   "cell_type": "markdown",
   "metadata": {},
   "source": [
    "#### **Lösung 2**"
   ]
  },
  {
   "cell_type": "code",
   "execution_count": 52,
   "metadata": {},
   "outputs": [
    {
     "name": "stdout",
     "output_type": "stream",
     "text": [
      "[2, 8, 34]\n"
     ]
    }
   ],
   "source": [
    "weather_c = {\n",
    "    \"Monday\": 12,\n",
    "    \"Tuesday\": 14,\n",
    "    \"Wednesday\": 15,\n",
    "    \"Thursday\": 14,\n",
    "    \"Friday\": 21,\n",
    "    \"Saturday\": 22,\n",
    "    \"Sunday\": 24,\n",
    "}\n",
    "# 🚨 Don't change code above 👆\n",
    "\n",
    "\n",
    "# Write your code 👇 below:\n",
    "weather_f = {day:(temp_c*9/5) for (day,temp_c) in weather_c.items()}\n",
    "\n",
    "\n",
    "print(weather_f)"
   ]
  },
  {
   "attachments": {},
   "cell_type": "markdown",
   "metadata": {},
   "source": [
    "#### **Loop through Dictionary**"
   ]
  },
  {
   "cell_type": "code",
   "execution_count": 4,
   "metadata": {},
   "outputs": [
    {
     "name": "stdout",
     "output_type": "stream",
     "text": [
      "['Angela', 'James', 'Lily']\n",
      "[56, 76, 98]\n"
     ]
    }
   ],
   "source": [
    "student_dict = {\"student\": [\"Angela\", \"James\", \"Lily\"], \"score\":[56,76,98]}\n",
    "\n",
    "for (key, value) in student_dict.items():\n",
    "    print(value)"
   ]
  },
  {
   "attachments": {},
   "cell_type": "markdown",
   "metadata": {},
   "source": [
    "#### **Loop through Data Frame**"
   ]
  },
  {
   "cell_type": "code",
   "execution_count": 5,
   "metadata": {},
   "outputs": [
    {
     "name": "stdout",
     "output_type": "stream",
     "text": [
      "  student  score\n",
      "0  Angela     56\n",
      "1   James     76\n",
      "2    Lily     98\n"
     ]
    }
   ],
   "source": [
    "import pandas\n",
    "student_data_frame = pandas.DataFrame(student_dict)\n",
    "print(student_data_frame)"
   ]
  },
  {
   "cell_type": "code",
   "execution_count": 7,
   "metadata": {},
   "outputs": [
    {
     "name": "stdout",
     "output_type": "stream",
     "text": [
      "0\n",
      "student    Angela\n",
      "score          56\n",
      "Name: 0, dtype: object\n",
      "1\n",
      "student    James\n",
      "score         76\n",
      "Name: 1, dtype: object\n",
      "2\n",
      "student    Lily\n",
      "score        98\n",
      "Name: 2, dtype: object\n"
     ]
    }
   ],
   "source": [
    "# Loop through rows of data frame\n",
    "for (index, row) in student_data_frame.iterrows():\n",
    "    print(index)\n",
    "    print(row)\n",
    "    # print(row.student)\n"
   ]
  },
  {
   "cell_type": "code",
   "execution_count": null,
   "metadata": {},
   "outputs": [],
   "source": [
    "# Dictionary Comprehension für Pandas Data Frames\n",
    "\n",
    "# {new_key:new_value for (index, row) in df.iterrows()}"
   ]
  }
 ],
 "metadata": {
  "kernelspec": {
   "display_name": "Python 3.10.2 64-bit",
   "language": "python",
   "name": "python3"
  },
  "language_info": {
   "codemirror_mode": {
    "name": "ipython",
    "version": 3
   },
   "file_extension": ".py",
   "mimetype": "text/x-python",
   "name": "python",
   "nbconvert_exporter": "python",
   "pygments_lexer": "ipython3",
   "version": "3.10.6"
  },
  "orig_nbformat": 4,
  "vscode": {
   "interpreter": {
    "hash": "199d4d96980d3c77fd685aeae9f69782f382d18d101d3d05db881b6799e10f7f"
   }
  }
 },
 "nbformat": 4,
 "nbformat_minor": 2
}

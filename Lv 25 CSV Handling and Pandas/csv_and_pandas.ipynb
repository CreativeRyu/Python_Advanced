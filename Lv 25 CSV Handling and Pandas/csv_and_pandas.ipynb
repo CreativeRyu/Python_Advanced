{
 "cells": [
  {
   "attachments": {},
   "cell_type": "markdown",
   "metadata": {},
   "source": [
    "# **CSV Handling**"
   ]
  },
  {
   "cell_type": "code",
   "execution_count": 4,
   "metadata": {},
   "outputs": [
    {
     "name": "stdout",
     "output_type": "stream",
     "text": [
      "['day,temp,condition\\n', 'Monday,12,Sunny\\n', 'Tuesday,14,Rain\\n', 'Wednesday,15,Rain\\n', 'Thursday,14,Cloudy\\n', 'Friday,21,Sunny\\n', 'Saturday,22,Sunny\\n', 'Sunday,24,Sunny']\n"
     ]
    }
   ],
   "source": [
    "with open(\"weather_data.csv\") as csv_file:\n",
    "    csv_data = csv_file.readlines()\n",
    "    print(csv_data)"
   ]
  },
  {
   "cell_type": "code",
   "execution_count": 5,
   "metadata": {},
   "outputs": [
    {
     "name": "stdout",
     "output_type": "stream",
     "text": [
      "['day', 'temp', 'condition']\n",
      "['Monday', '12', 'Sunny']\n",
      "['Tuesday', '14', 'Rain']\n",
      "['Wednesday', '15', 'Rain']\n",
      "['Thursday', '14', 'Cloudy']\n",
      "['Friday', '21', 'Sunny']\n",
      "['Saturday', '22', 'Sunny']\n",
      "['Sunday', '24', 'Sunny']\n",
      "<class 'int'>\n",
      "[12, 14, 15, 14, 21, 22, 24]\n"
     ]
    }
   ],
   "source": [
    "# Mit import csv zeigen wie mit der entsprechenden Bibleothek \n",
    "# das csv Handling vereinfacht werden kann\n",
    "\n",
    "# anschließend umsetzen lassen, dass die Temperaturen als Integer in einer neuen Liste ausgegeben werden \n",
    "\n",
    "import csv\n",
    "\n",
    "with open(\"weather_data.csv\") as csv_file:\n",
    "    csv_data = csv.reader(csv_file)\n",
    "    temperatures = []\n",
    "    for row in csv_data:\n",
    "\n",
    "        if row[1].isdigit():\n",
    "            temperatures.append(int(row[1]))\n",
    "        print(row)\n",
    "    print(type(temperatures[1]))\n",
    "    print(temperatures)"
   ]
  },
  {
   "attachments": {},
   "cell_type": "markdown",
   "metadata": {},
   "source": [
    "# **Pandas**"
   ]
  },
  {
   "cell_type": "code",
   "execution_count": 6,
   "metadata": {},
   "outputs": [
    {
     "name": "stdout",
     "output_type": "stream",
     "text": [
      "         day  temp condition\n",
      "0     Monday    12     Sunny\n",
      "1    Tuesday    14      Rain\n",
      "2  Wednesday    15      Rain\n",
      "3   Thursday    14    Cloudy\n",
      "4     Friday    21     Sunny\n",
      "5   Saturday    22     Sunny\n",
      "6     Sunday    24     Sunny\n",
      "0    12\n",
      "1    14\n",
      "2    15\n",
      "3    14\n",
      "4    21\n",
      "5    22\n",
      "6    24\n",
      "Name: temp, dtype: int64\n",
      "[12, 14, 15, 14, 21, 22, 24]\n",
      "Die Durchschnittstemperatur beträgt: 17\n"
     ]
    }
   ],
   "source": [
    "import pandas\n",
    "\n",
    "data_with_pandas = pandas.read_csv(\"weather_data.csv\") # Auslesen der Datei mit Pandas\n",
    "print(data_with_pandas)\n",
    "print(data_with_pandas[\"temp\"]) # Ausgabe einer Tabellenspalte\n",
    "\n",
    "temps = data_with_pandas[\"temp\"].to_list() # Konvertierung der Daten in andere Datenstrukturen\n",
    "print(temps)\n",
    "\n",
    "# Aufgabe: Durchschnittstemperatur berechnen\n",
    "\n",
    "sum_temps = 0\n",
    "for i in temps:\n",
    "    sum_temps += i\n",
    "\n",
    "avrg_temp = round(sum_temps / len(temps))\n",
    "\n",
    "print(f\"Die Durchschnittstemperatur beträgt: {avrg_temp}\")"
   ]
  },
  {
   "cell_type": "code",
   "execution_count": 7,
   "metadata": {},
   "outputs": [
    {
     "name": "stdout",
     "output_type": "stream",
     "text": [
      "17.428571428571427\n"
     ]
    }
   ],
   "source": [
    "# Durchschnittstemperatur mit Pandas berechnen\n",
    "\n",
    "print(data_with_pandas[\"temp\"].mean())"
   ]
  },
  {
   "cell_type": "code",
   "execution_count": 8,
   "metadata": {},
   "outputs": [
    {
     "name": "stdout",
     "output_type": "stream",
     "text": [
      "24\n",
      "12\n"
     ]
    }
   ],
   "source": [
    "# Aufgabe:\n",
    "# Mithilfe der Pandas Dokumentation den Maximal-, sowie den Minimalwert berechnen.\n",
    "print(data_with_pandas[\"temp\"].max())\n",
    "print(data_with_pandas[\"temp\"].min())"
   ]
  },
  {
   "cell_type": "code",
   "execution_count": 9,
   "metadata": {},
   "outputs": [
    {
     "name": "stdout",
     "output_type": "stream",
     "text": [
      "0    12\n",
      "1    14\n",
      "2    15\n",
      "3    14\n",
      "4    21\n",
      "5    22\n",
      "6    24\n",
      "Name: temp, dtype: int64\n"
     ]
    }
   ],
   "source": [
    "# Columns können auch durch einen Zugriffsmodifizierer addressiert werden\n",
    "print(data_with_pandas.temp)"
   ]
  },
  {
   "cell_type": "code",
   "execution_count": 16,
   "metadata": {},
   "outputs": [
    {
     "name": "stdout",
     "output_type": "stream",
     "text": [
      "      day  temp condition\n",
      "0  Monday    12     Sunny\n",
      "      day  temp condition\n",
      "6  Sunday    24     Sunny\n"
     ]
    }
   ],
   "source": [
    "print(data_with_pandas[data_with_pandas.day == \"Monday\"])\n",
    "\n",
    "# Es soll die Zeile ausgegeben werden bei der die Temperatur den Höchstwert erreicht hat\n",
    "print(data_with_pandas[data_with_pandas.temp == data_with_pandas.temp.max()])"
   ]
  },
  {
   "cell_type": "code",
   "execution_count": 21,
   "metadata": {},
   "outputs": [
    {
     "name": "stdout",
     "output_type": "stream",
     "text": [
      "0    12\n",
      "Name: temp, dtype: int64\n",
      "0    53.6\n",
      "Name: temp, dtype: float64\n"
     ]
    }
   ],
   "source": [
    "# Nun die Temperatur von Montag aus der Datenquelle holen und diese dann in Fahrenheit umrechnen\n",
    "\n",
    "monday = data_with_pandas[data_with_pandas.day == \"Monday\"]\n",
    "print(monday.temp)\n",
    "f = monday.temp * 1.8 + 32\n",
    "print(f)"
   ]
  },
  {
   "cell_type": "code",
   "execution_count": 22,
   "metadata": {},
   "outputs": [],
   "source": [
    "# Create a new Data Frame\n",
    "\n",
    "data_dictionary = {\n",
    "    \"students\": [\"Amy\", \"James\", \"Angela\"],\n",
    "    \"score\": [76, 56, 65]\n",
    "}\n",
    "new_data = pandas.DataFrame(data_dictionary)\n",
    "new_data.to_csv(\"new_data.csv\")\n"
   ]
  }
 ],
 "metadata": {
  "kernelspec": {
   "display_name": "Python 3",
   "language": "python",
   "name": "python3"
  },
  "language_info": {
   "codemirror_mode": {
    "name": "ipython",
    "version": 3
   },
   "file_extension": ".py",
   "mimetype": "text/x-python",
   "name": "python",
   "nbconvert_exporter": "python",
   "pygments_lexer": "ipython3",
   "version": "3.10.2 (tags/v3.10.2:a58ebcc, Jan 17 2022, 14:12:15) [MSC v.1929 64 bit (AMD64)]"
  },
  "orig_nbformat": 4,
  "vscode": {
   "interpreter": {
    "hash": "199d4d96980d3c77fd685aeae9f69782f382d18d101d3d05db881b6799e10f7f"
   }
  }
 },
 "nbformat": 4,
 "nbformat_minor": 2
}

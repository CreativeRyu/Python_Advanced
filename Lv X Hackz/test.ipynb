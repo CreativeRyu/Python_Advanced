{
 "cells": [
  {
   "cell_type": "code",
   "execution_count": 6,
   "metadata": {},
   "outputs": [
    {
     "name": "stdout",
     "output_type": "stream",
     "text": [
      "10\n",
      "<class 'int'>\n",
      "9\n",
      "8\n"
     ]
    }
   ],
   "source": [
    "print(len(\"ein_string\"))\n",
    "\n",
    "string_len = len(\"ein_string\")\n",
    "\n",
    "print(type(string_len))\n",
    "\n",
    "eine_liste = [1,2,3,4,5,6,7,87,99]\n",
    "\n",
    "print(len(eine_liste))\n",
    "\n",
    "last_index = len(eine_liste) - 1\n",
    "print(last_index)"
   ]
  },
  {
   "cell_type": "code",
   "execution_count": 10,
   "metadata": {},
   "outputs": [
    {
     "name": "stdout",
     "output_type": "stream",
     "text": [
      "[1, 2, 3]\n",
      "[2, 2, 3]\n",
      "[3, 2, 2]\n"
     ]
    }
   ],
   "source": [
    "any_list = [1, 2, 3]\n",
    "länge_der_liste = len(any_list)\n",
    "print(any_list)\n",
    "any_list[0] = any_list[1]\n",
    "print(any_list)\n",
    "\n",
    "any_list[0], any_list[2] = any_list[2], any_list[0] # tauscht werte einer Liste\n",
    "print(any_list)"
   ]
  },
  {
   "cell_type": "code",
   "execution_count": 4,
   "metadata": {},
   "outputs": [
    {
     "ename": "SyntaxError",
     "evalue": "invalid syntax (73744898.py, line 1)",
     "output_type": "error",
     "traceback": [
      "\u001b[1;36m  Cell \u001b[1;32mIn[4], line 1\u001b[1;36m\u001b[0m\n\u001b[1;33m    print(Hello, World!)\u001b[0m\n\u001b[1;37m                      ^\u001b[0m\n\u001b[1;31mSyntaxError\u001b[0m\u001b[1;31m:\u001b[0m invalid syntax\n"
     ]
    }
   ],
   "source": [
    "print(Hello, World!)"
   ]
  },
  {
   "cell_type": "code",
   "execution_count": 20,
   "metadata": {},
   "outputs": [
    {
     "name": "stdout",
     "output_type": "stream",
     "text": [
      "3\n"
     ]
    }
   ],
   "source": [
    "x = 2\n",
    "y = 1\n",
    "x *= y + 1\n",
    "print(x)"
   ]
  },
  {
   "cell_type": "code",
   "execution_count": 7,
   "metadata": {},
   "outputs": [
    {
     "name": "stdout",
     "output_type": "stream",
     "text": [
      "3 42\n"
     ]
    }
   ],
   "source": [
    "def func(p1, p2):\n",
    "    p1 = 1\n",
    "    p2[0] = 42\n",
    "    \n",
    "x = 3\n",
    "y = [1, 2, 3]\n",
    "    \n",
    "func(x, y)\n",
    "    \n",
    "print(x, y[0])"
   ]
  },
  {
   "cell_type": "code",
   "execution_count": 14,
   "metadata": {},
   "outputs": [
    {
     "name": "stdout",
     "output_type": "stream",
     "text": [
      "False\n",
      "False\n",
      "True\n"
     ]
    }
   ],
   "source": [
    "w = bool(23)\n",
    "x = bool('')\n",
    "y = bool(' ')\n",
    "z = bool([False])\n",
    "\n",
    "print(w)\n",
    "print(x)\n",
    "print(z)"
   ]
  },
  {
   "cell_type": "code",
   "execution_count": 19,
   "metadata": {},
   "outputs": [
    {
     "name": "stdout",
     "output_type": "stream",
     "text": [
      "I' am\n",
      "5\n"
     ]
    }
   ],
   "source": [
    "x = 'I\\' am'\n",
    "print(\"I\\' am\")\n",
    "print(len(x))"
   ]
  },
  {
   "cell_type": "code",
   "execution_count": 2,
   "metadata": {},
   "outputs": [
    {
     "name": "stdout",
     "output_type": "stream",
     "text": [
      "2\n"
     ]
    }
   ],
   "source": [
    "box = {}\n",
    "jars = {}\n",
    "crates = {}\n",
    "    \n",
    "box['biscuit'] = 1\n",
    "box['cake'] = 3\n",
    "    \n",
    "jars['jam'] = 4\n",
    "    \n",
    "crates['box'] = box\n",
    "crates['jars'] = jars\n",
    "    \n",
    "print(len(crates[box]))"
   ]
  }
 ],
 "metadata": {
  "kernelspec": {
   "display_name": "Python 3",
   "language": "python",
   "name": "python3"
  },
  "language_info": {
   "codemirror_mode": {
    "name": "ipython",
    "version": 3
   },
   "file_extension": ".py",
   "mimetype": "text/x-python",
   "name": "python",
   "nbconvert_exporter": "python",
   "pygments_lexer": "ipython3",
   "version": "3.10.2"
  },
  "orig_nbformat": 4,
  "vscode": {
   "interpreter": {
    "hash": "199d4d96980d3c77fd685aeae9f69782f382d18d101d3d05db881b6799e10f7f"
   }
  }
 },
 "nbformat": 4,
 "nbformat_minor": 2
}

{
 "cells": [
  {
   "attachments": {},
   "cell_type": "markdown",
   "metadata": {},
   "source": [
    "## **SMTP Simple Mail Transfer Protocol**"
   ]
  },
  {
   "cell_type": "code",
   "execution_count": null,
   "metadata": {},
   "outputs": [],
   "source": [
    "import smtplib\n",
    "\n",
    "my_email = \"placeholder@gmail.com\"\n",
    "password = \"placeholder\"\n",
    "\n",
    "with smtplib.SMTP(\"smtp.web.de\") as connection:\n",
    "    connection.starttls() # Encrypt Messages\n",
    "    connection.login(user=my_email, password=password)\n",
    "    connection.sendmail(from_addr=my_email, to_addrs=\"toplaceholder@web.de\", \n",
    "                        msg=\"Subject:Hello\\n\\nThis is my Emailbody\")"
   ]
  },
  {
   "attachments": {},
   "cell_type": "markdown",
   "metadata": {},
   "source": [
    "## **DateTime Module**"
   ]
  },
  {
   "cell_type": "code",
   "execution_count": 1,
   "metadata": {},
   "outputs": [
    {
     "name": "stdout",
     "output_type": "stream",
     "text": [
      "4\n",
      "1987-12-02 00:00:00\n"
     ]
    }
   ],
   "source": [
    "import datetime as dt\n",
    "\n",
    "now = dt.datetime.now()\n",
    "year = now.year\n",
    "month = now.month\n",
    "day_of_week = now.weekday()\n",
    "print(day_of_week)\n",
    "\n",
    "date_of_birth = dt.datetime(year=1987, month=12, day=2)\n",
    "print(date_of_birth)"
   ]
  }
 ],
 "metadata": {
  "kernelspec": {
   "display_name": "Python 3",
   "language": "python",
   "name": "python3"
  },
  "language_info": {
   "codemirror_mode": {
    "name": "ipython",
    "version": 3
   },
   "file_extension": ".py",
   "mimetype": "text/x-python",
   "name": "python",
   "nbconvert_exporter": "python",
   "pygments_lexer": "ipython3",
   "version": "3.10.6 (tags/v3.10.6:9c7b4bd, Aug  1 2022, 21:53:49) [MSC v.1932 64 bit (AMD64)]"
  },
  "orig_nbformat": 4,
  "vscode": {
   "interpreter": {
    "hash": "199d4d96980d3c77fd685aeae9f69782f382d18d101d3d05db881b6799e10f7f"
   }
  }
 },
 "nbformat": 4,
 "nbformat_minor": 2
}

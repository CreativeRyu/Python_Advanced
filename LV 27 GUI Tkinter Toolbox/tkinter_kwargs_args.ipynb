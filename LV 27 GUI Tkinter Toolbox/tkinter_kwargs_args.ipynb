{
 "cells": [
  {
   "attachments": {},
   "cell_type": "markdown",
   "metadata": {},
   "source": [
    "# Tkinter\n",
    "Create Graphical User Interfaces"
   ]
  },
  {
   "cell_type": "code",
   "execution_count": 1,
   "metadata": {},
   "outputs": [],
   "source": [
    "# intro for Tkinter\n",
    "\n",
    "import tkinter\n",
    "\n",
    "window = tkinter.Tk()\n",
    "window.title(\"First GUI Program\")\n",
    "window.minsize(width=500, height=300)\n",
    "any_label = tkinter.Label(text=\"I am a Label\", font=(\"Arial\",24,\"bold\")) # erzeugt ein label\n",
    "any_label.pack(side=\"left\") # zeigt das Label in der Mitte des Bildschirms an\n",
    "                            # side bestimmt das alignment des Labels auf dem Bildschirm\n",
    "\n",
    "window.mainloop()"
   ]
  },
  {
   "attachments": {},
   "cell_type": "markdown",
   "metadata": {},
   "source": [
    "# *args\n",
    "#### Unlimited Positional Arguments\n",
    "mit *args können beliebig viele Argumente übergeben werden."
   ]
  },
  {
   "cell_type": "code",
   "execution_count": 14,
   "metadata": {},
   "outputs": [
    {
     "name": "stdout",
     "output_type": "stream",
     "text": [
      "2\n",
      "4\n",
      "5\n",
      "6\n",
      "7\n",
      "8\n",
      "ein string\n",
      "[1, 3, 5]\n",
      "<class 'tuple'>\n"
     ]
    }
   ],
   "source": [
    "def print_args(*args):\n",
    "    for n in args:\n",
    "        print(n)\n",
    "    print(type(args))\n",
    "\n",
    "print_args(2,4,5,6,7,8,\"ein string\", [1,3,5])"
   ]
  },
  {
   "cell_type": "code",
   "execution_count": 16,
   "metadata": {},
   "outputs": [
    {
     "name": "stdout",
     "output_type": "stream",
     "text": [
      "54\n"
     ]
    }
   ],
   "source": [
    "def add(*args):\n",
    "    summe = 0\n",
    "    for n in args:\n",
    "        summe += n\n",
    "    print(summe)\n",
    "\n",
    "# kurz\n",
    "    # print(sum(args))\n",
    "\n",
    "\n",
    "add(2,3,4,5,6,7,8,9,10)"
   ]
  },
  {
   "attachments": {},
   "cell_type": "markdown",
   "metadata": {},
   "source": [
    "# **kwargs\n",
    "mit **kwargs können beliebig viele Keywordargumente übergeben werden, daraus wird ein Dictionary erzeugt"
   ]
  },
  {
   "cell_type": "code",
   "execution_count": 19,
   "metadata": {},
   "outputs": [
    {
     "name": "stdout",
     "output_type": "stream",
     "text": [
      "<class 'dict'>\n",
      "add\n",
      "3\n",
      "mulitply\n",
      "5\n",
      "3\n"
     ]
    }
   ],
   "source": [
    "# Beispiel ohne Positionsargumente\n",
    "def calculate(**kwargs):\n",
    "    print(type(kwargs))\n",
    "    for key, value in kwargs.items():\n",
    "        print(key)\n",
    "        print(value)\n",
    "    \n",
    "    print(kwargs[\"add\"])\n",
    "\n",
    "calculate(add=3, mulitply=5)"
   ]
  },
  {
   "cell_type": "code",
   "execution_count": 23,
   "metadata": {},
   "outputs": [
    {
     "name": "stdout",
     "output_type": "stream",
     "text": [
      "35\n"
     ]
    }
   ],
   "source": [
    "# Beispiel mit Positionsargumente\n",
    "def calculate_inc_n(n, **kwargs):\n",
    "    n += kwargs[\"add\"]\n",
    "    n *= kwargs[\"multiply\"]\n",
    "    print(n)\n",
    "\n",
    "calculate_inc_n(4, add=3, multiply=5)"
   ]
  },
  {
   "cell_type": "code",
   "execution_count": 25,
   "metadata": {},
   "outputs": [
    {
     "name": "stdout",
     "output_type": "stream",
     "text": [
      "None\n"
     ]
    }
   ],
   "source": [
    "# Get Methode -> None wenn kein Wert übergeben wird\n",
    "# otherwise crash\n",
    "class Car:\n",
    "    def __init__(self,**kw):\n",
    "        self.make = kw.get(\"make\")\n",
    "        self.model = kw.get(\"model\")\n",
    "\n",
    "my_car = Car(make=\"Mazda\")\n",
    "print(my_car.model)"
   ]
  }
 ],
 "metadata": {
  "kernelspec": {
   "display_name": "Python 3",
   "language": "python",
   "name": "python3"
  },
  "language_info": {
   "codemirror_mode": {
    "name": "ipython",
    "version": 3
   },
   "file_extension": ".py",
   "mimetype": "text/x-python",
   "name": "python",
   "nbconvert_exporter": "python",
   "pygments_lexer": "ipython3",
   "version": "3.10.6"
  },
  "orig_nbformat": 4,
  "vscode": {
   "interpreter": {
    "hash": "199d4d96980d3c77fd685aeae9f69782f382d18d101d3d05db881b6799e10f7f"
   }
  }
 },
 "nbformat": 4,
 "nbformat_minor": 2
}

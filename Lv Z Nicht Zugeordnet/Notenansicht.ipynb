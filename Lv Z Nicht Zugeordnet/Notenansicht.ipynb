{
 "cells": [
  {
   "cell_type": "code",
   "execution_count": 2,
   "metadata": {},
   "outputs": [
    {
     "ename": "FileNotFoundError",
     "evalue": "[Errno 2] No such file or directory: 'weather_data.csv'",
     "output_type": "error",
     "traceback": [
      "\u001b[1;31m---------------------------------------------------------------------------\u001b[0m",
      "\u001b[1;31mFileNotFoundError\u001b[0m                         Traceback (most recent call last)",
      "Cell \u001b[1;32mIn[2], line 3\u001b[0m\n\u001b[0;32m      1\u001b[0m \u001b[39mimport\u001b[39;00m \u001b[39mcsv\u001b[39;00m\n\u001b[1;32m----> 3\u001b[0m \u001b[39mwith\u001b[39;00m \u001b[39mopen\u001b[39;49m(\u001b[39m\"\u001b[39;49m\u001b[39mweather_data.csv\u001b[39;49m\u001b[39m\"\u001b[39;49m) \u001b[39mas\u001b[39;00m csv_file:\n\u001b[0;32m      4\u001b[0m     csv_data \u001b[39m=\u001b[39m csv\u001b[39m.\u001b[39mreader(csv_file)\n\u001b[0;32m      5\u001b[0m     temperatures \u001b[39m=\u001b[39m []\n",
      "File \u001b[1;32mc:\\Users\\MKrause\\AppData\\Local\\Programs\\Python\\Python310\\lib\\site-packages\\IPython\\core\\interactiveshell.py:282\u001b[0m, in \u001b[0;36m_modified_open\u001b[1;34m(file, *args, **kwargs)\u001b[0m\n\u001b[0;32m    275\u001b[0m \u001b[39mif\u001b[39;00m file \u001b[39min\u001b[39;00m {\u001b[39m0\u001b[39m, \u001b[39m1\u001b[39m, \u001b[39m2\u001b[39m}:\n\u001b[0;32m    276\u001b[0m     \u001b[39mraise\u001b[39;00m \u001b[39mValueError\u001b[39;00m(\n\u001b[0;32m    277\u001b[0m         \u001b[39mf\u001b[39m\u001b[39m\"\u001b[39m\u001b[39mIPython won\u001b[39m\u001b[39m'\u001b[39m\u001b[39mt let you open fd=\u001b[39m\u001b[39m{\u001b[39;00mfile\u001b[39m}\u001b[39;00m\u001b[39m by default \u001b[39m\u001b[39m\"\u001b[39m\n\u001b[0;32m    278\u001b[0m         \u001b[39m\"\u001b[39m\u001b[39mas it is likely to crash IPython. If you know what you are doing, \u001b[39m\u001b[39m\"\u001b[39m\n\u001b[0;32m    279\u001b[0m         \u001b[39m\"\u001b[39m\u001b[39myou can use builtins\u001b[39m\u001b[39m'\u001b[39m\u001b[39m open.\u001b[39m\u001b[39m\"\u001b[39m\n\u001b[0;32m    280\u001b[0m     )\n\u001b[1;32m--> 282\u001b[0m \u001b[39mreturn\u001b[39;00m io_open(file, \u001b[39m*\u001b[39margs, \u001b[39m*\u001b[39m\u001b[39m*\u001b[39mkwargs)\n",
      "\u001b[1;31mFileNotFoundError\u001b[0m: [Errno 2] No such file or directory: 'weather_data.csv'"
     ]
    }
   ],
   "source": [
    "import csv\n",
    "\n",
    "with open(\"weather_data.csv\") as csv_file:\n",
    "    csv_data = csv.reader(csv_file)\n",
    "    temperatures = []\n",
    "    for row in csv_data:\n",
    "\n",
    "        if row[1].isdigit():\n",
    "            temperatures.append(int(row[1]))\n",
    "        print(row)\n",
    "    print(type(temperatures[1]))\n",
    "    print(temperatures)"
   ]
  },
  {
   "cell_type": "code",
   "execution_count": 14,
   "metadata": {},
   "outputs": [
    {
     "name": "stdout",
     "output_type": "stream",
     "text": [
      "tmtest ist vorhanden\n",
      "[['benutzername', 'nachname', 'vorname', 'fach', 'note'], ['tmtest', 'Meier', 'Thomas', 'KLR', '2'], ['tmtest', 'Meier', 'Thomas', 'LAN', '3'], ['gstest', 'Schule', 'Gerd', 'KLR', '3'], ['shtest', 'Schneider', 'Heinz', 'KLR', '2'], ['shtest', 'Schneider', 'Heinz', 'LAN', '1']]\n"
     ]
    }
   ],
   "source": [
    "# Benutzername eingeben\n",
    "# wenn Name vorhanden ist\n",
    "# weiter zur PW Eingabe\n",
    "# Wenn nicht info, dass Name nicht vorhanden\n",
    "\n",
    "csv_data = []\n",
    "\n",
    "with open(\"noten.csv\") as file:\n",
    "        for zeile in file:            \n",
    "            daten = zeile.rstrip().split(\";\")\n",
    "            csv_data.append(daten)\n",
    "\n",
    "benutzer = input(\"gib den namen\")\n",
    "is_name_in_list = False\n",
    "\n",
    "for line in csv_data:\n",
    "    if line[0] == benutzer:\n",
    "        is_name_in_list = True     \n",
    "        break\n",
    "    \n",
    "if is_name_in_list == True:\n",
    "    print(f\"{benutzer} ist vorhanden\")\n",
    "elif is_name_in_list == False:\n",
    "    print(f\"{benutzer} ist nicht vorhanden\")\n",
    "            \n",
    "print(csv_data)      "
   ]
  }
 ],
 "metadata": {
  "kernelspec": {
   "display_name": "Python 3",
   "language": "python",
   "name": "python3"
  },
  "language_info": {
   "codemirror_mode": {
    "name": "ipython",
    "version": 3
   },
   "file_extension": ".py",
   "mimetype": "text/x-python",
   "name": "python",
   "nbconvert_exporter": "python",
   "pygments_lexer": "ipython3",
   "version": "3.10.6"
  },
  "orig_nbformat": 4,
  "vscode": {
   "interpreter": {
    "hash": "199d4d96980d3c77fd685aeae9f69782f382d18d101d3d05db881b6799e10f7f"
   }
  }
 },
 "nbformat": 4,
 "nbformat_minor": 2
}
